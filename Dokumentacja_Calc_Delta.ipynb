{
  "nbformat": 4,
  "nbformat_minor": 0,
  "metadata": {
    "colab": {
      "name": "Calc Delta.ipynb",
      "provenance": [],
      "collapsed_sections": []
    },
    "kernelspec": {
      "name": "python3",
      "display_name": "Python 3"
    },
    "language_info": {
      "name": "python"
    }
  },
  "cells": [
    {
      "cell_type": "markdown",
      "metadata": {
        "id": "Vwh4hOhCm7kF"
      },
      "source": [
        "<h1>Calc Delta</h1>\n",
        "\n",
        "Aplikacja GUI napisana w pythonie z użyciem modułów:\n",
        "- numpy\n",
        "- matplotlib\n",
        "- PyQt5\n",
        "\n",
        "Dzięki Calc Delta, obliczanie wyróżnika kwadratowego oraz rysowanie paraboli nie powinno stanowić żadnego wyzwania."
      ]
    },
    {
      "cell_type": "markdown",
      "metadata": {
        "id": "bgLir9fym_aT"
      },
      "source": [
        "## <strong>Wprowadzenie</strong>\n",
        "\n",
        "Dokumentacja, ta powstała dzięki narzędziu Google Colab i jest własnością autora."
      ]
    },
    {
      "cell_type": "markdown",
      "metadata": {
        "id": "9eSAALSdnDKx"
      },
      "source": [
        "## <strong>Algorytm aplikacji</strong>\n",
        "\n",
        "Aplikacja została stworzona w oparciu o wzorzec <strong>programowania funkcyjnego</strong>. Nie występuje w niej znaczące rozdzielenie na klasy oraz ich obiekty, stąd też brak uwzględniania jej w paradygmacie programowania obiektowego."
      ]
    },
    {
      "cell_type": "markdown",
      "metadata": {
        "id": "W9OmlqovnF7h"
      },
      "source": [
        "Aby wszystko działało poprawnie niezbędny jest wcześniejszy import wymienionych na początku modułów.\n",
        "\n",
        "import os\n",
        "\n",
        "import sys\n",
        "\n",
        "import matplotlib.pyplot as plt\n",
        "\n",
        "import numpy as np\n",
        "\n",
        "from PyQt5 import QtCore\n",
        "\n",
        "from PyQt5.QtGui import QCursor, QIcon\n",
        "\n",
        "from PyQt5.QtGui import QPixmap\n",
        "\n",
        "from PyQt5.QtWidgets import QApplication, QLabel, QPushButton, QWidget, QGridLayout, QLineEdit"
      ]
    },
    {
      "cell_type": "markdown",
      "metadata": {
        "id": "hs3ZZglfnJcC"
      },
      "source": [
        "###<strong>GUI</strong>\n",
        "\n",
        "Graficzny Interejs Użytkownika (GUI), bazuje na module PyQt5 dzięki, któremu tworzenie aplikacji okienkowej wymaga od nas jedynie stworzenia zmiennej app i przypisanie do niej obiektu QApplication odpowiedzialnego za działanie naszej aplikacji. Następnie za wizualną reprezentację naszej aplikacji odpowiedzialny jest obiekt QWidget, który przypisujemy do okna aplikacji."
      ]
    },
    {
      "cell_type": "markdown",
      "metadata": {
        "id": "sDj1qYianXQ6"
      },
      "source": [
        "Dodatkowo definijemy zmienne globalne, które będą nam niezbędne do poprawnego funkcjonowania aplikacji:\n",
        "\n",
        "  //app initiaition with global variables and our grid\n",
        "\n",
        "  app = QApplication(sys.argv)\n",
        "\n",
        "  x_start = QLineEdit(\"Enter start value of X\")\n",
        "\n",
        "  x_stop = QLineEdit(\"Enter stop value of X\")\n",
        "\n",
        "  input_a = QLineEdit(\"ENTER A\")\n",
        "\n",
        "  input_b = QLineEdit(\"ENTER B\")\n",
        "\n",
        "  input_c = QLineEdit(\"ENTER C\")\n",
        "\n",
        "  window = QWidget()\n",
        "\n",
        "  window.setWindowTitle(\"Calc Delta\")\n",
        "\n",
        "  window.setWindowIcon(QIcon(\"logo.png\"))\n",
        "\n",
        "  window.setFixedWidth(1000)\n",
        "\n",
        "  window.setStyleSheet(\"background:#161219;\")\n",
        "\n",
        "  grid = QGridLayout()\n",
        "\n",
        "  frame()\n",
        "\n",
        "  window.setLayout(grid)\n",
        "\n",
        "  window.show()\n",
        "  \n",
        "  sys.exit(app.exec_())"
      ]
    },
    {
      "cell_type": "markdown",
      "metadata": {
        "id": "HeIGjOnnnacq"
      },
      "source": [
        "Funkcje frame(), frame2() oraz frame3() odpowiedzialne są za okna naszej aplikacji. Jak łatwo zauważyć niezbędnymi elementami naszego interfesju są przyciski QPushButton oraz pola tekstowe QLineEdit przyjmujące wartości parametrów oraz przedział argumentów funkcji.\n",
        "\n",
        "Każdy obiekt aby był widoczny musi zostać dodany do naszego layout (GridLayout).\n",
        "Odbywa się to przy pomocy słowników odpowiadających widgetom, czyli obiektom PyQt5. Aby uniknąć tworzenia kolejnych wyskakujących okien i nadać płynności naszej aplikacji stworzona została funkcja clear_widgets() do czyszczenia okienka po kliknięciu przycisku funkcyjnego np START, RESULT."
      ]
    },
    {
      "cell_type": "markdown",
      "metadata": {
        "id": "oCIMUnY1ndLq"
      },
      "source": [
        "###Czyszczenie\n",
        "\n",
        "def clear_widgets():\n",
        "\n",
        "    for widget in widgets: //dla obiektu w obiektach\n",
        "        if widgets[widget]: //jeśli istnieje\n",
        "            widgets[widget][-1].hide() //ukryj obiekt o indeksie -1\n",
        "            for i in range(0, len(widgets[widget])): //dla indeksu i w zakresie od 0 do długość obiektu tabeli w słowniku obiektów\n",
        "                widgets[widget].pop() // pop() - zdejmij ze stosu"
      ]
    },
    {
      "cell_type": "markdown",
      "metadata": {
        "id": "JIjgkMakni7C"
      },
      "source": [
        "Dodawanie obiektów do słownika oraz układu aplikacji realizujemy za pomocą widgets[\"nazwa obiektu\"].append(zmienna_obiektu)\n",
        "grid.addWidget(widgets[\"nazwa obiektu\"][-1], 0, 0) - indeks -1 umieszcza obiekt na końcu tabeli, 0, 0 odpowiadają n-numer wiersza, n-numer kolumny."
      ]
    },
    {
      "cell_type": "markdown",
      "metadata": {
        "id": "z-IDS8fonluB"
      },
      "source": [
        "widgets = {\n",
        "    \"logo\": [],\n",
        "    \"btn\": [],\n",
        "    \"btn2\": [],\n",
        "    \"btn3\": [],\n",
        "    \"text\": [],\n",
        "    \"title\": [],\n",
        "    \"a\": [],\n",
        "    \"b\": [],\n",
        "    \"c\": [],\n",
        "    \"r\": [],\n",
        "    \"d\": [],\n",
        "    \"x_start\": [],\n",
        "    \"x_stop\": [],\n",
        "    \"msg\": []\n",
        "           }"
      ]
    },
    {
      "cell_type": "markdown",
      "metadata": {
        "id": "NNAgZX4Unofi"
      },
      "source": [
        "Dzięki funkcji start() mozemy płynnie przejść do okna użytkownika i wpisać wymagane wartośći, które następnie przechodzą test typu. W tym celu wykorzystujemy instrukcję <strong>try except</strong>. Jeśli użytkownik wprowadzi wartości liczbowe wtedy otrzyma w oknie rezultatu wartość delty oraz ukaże się nowe okno z wykresem funkcji kwadratowej. W przypadku wprowadzenia innej wartości niż liczba pojawi się okno w błędem wartości."
      ]
    },
    {
      "cell_type": "markdown",
      "metadata": {
        "id": "Bu2lFrIxnrYb"
      },
      "source": [
        "Aby obliczyć zakres wykorzystujemy wcześniej przygotowane zmienne x_start oraz x_stop.\n",
        "\n",
        "Dzięki funkcji linspace z biblioteki numpy możemy przypisać je do jednej zmiennej odpowiedzialnej za obliczanie wartości funkcji na danym przedziale.\n",
        "<strong>Linspace</strong> przyjmuje x_start oraz x_stop jako wartości start i stop."
      ]
    },
    {
      "cell_type": "markdown",
      "metadata": {
        "id": "qeytD5uznt_i"
      },
      "source": [
        "##Wartość funkcji\n",
        "\n",
        "Funkcję obliczamy ze wzoru: y = a * x * x + b * x + c"
      ]
    },
    {
      "cell_type": "markdown",
      "metadata": {
        "id": "1qa3uSfTnwLx"
      },
      "source": [
        "Do wizualizacji wykorzystejmy bibliotkę matplotlib:\n",
        "\n",
        "        plt.plot(x, y) - tworzymy wykres\n",
        "        plt.xlabel('x_values') - oznaczamy oś X\n",
        "        plt.ylabel('y_values') - oznaczamy oś Y\n",
        "        plt.title('Calc_Delta_Graph') - podajemy tytuł wykresu\n",
        "        plt.grid(True) - ustawiamy wartość widoczności układu wykresu\n",
        "        plt.show() - wyświetlamy wykres"
      ]
    },
    {
      "cell_type": "markdown",
      "metadata": {
        "id": "Uhj2X84doFqJ"
      },
      "source": [
        "##Instalacja oraz obsługa\n",
        "\n",
        "Aby aplikacja działała poprawnie należy pobrać wszystkie pliki z repozytorium oraz zainstalować wymienione biblioteki do lokazlizacji, w której znajdują się wszystkie pliki pythonowe na naszym konputerze za pomocą komendy: *python -m pip install*. Należy skonfigurować również interpreter pythonowy tak, aby łączył się z python.exe w skryptach naszeej aplikacji.\n",
        "\n",
        "Jeśli wszystko pójdzie pomyślnie powinniśmy włączyć aplikację z poziomu Windows CMD -> cd \\ścieżka_do_naszej_aplikacji -> python \"Calc Delta.py\""
      ]
    },
    {
      "cell_type": "markdown",
      "metadata": {
        "id": "IyYkJM3dppKz"
      },
      "source": [
        "Obsługa programu jest bardzo prosta. Korzystając z przycisków nawigujących startujemy naszą aplikację, wprowadzamy wymagane wartości w języku angielskim :) nastepnie klikamy opcję result i czekamy na wyniki. Jeśli wprowadziliśmy odpowiedni typ danych naszym oczom powinien ukazać się wykres oraz wartość delty w oknie głównym. Dziękujemy za skorzystanie z naszej aplikacji!"
      ]
    }
  ]
}